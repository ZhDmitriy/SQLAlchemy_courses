{
  "nbformat": 4,
  "nbformat_minor": 0,
  "metadata": {
    "colab": {
      "provenance": []
    },
    "kernelspec": {
      "name": "python3",
      "display_name": "Python 3"
    },
    "language_info": {
      "name": "python"
    }
  },
  "cells": [
    {
      "cell_type": "code",
      "execution_count": 1,
      "metadata": {
        "id": "F49bi5z5hvok"
      },
      "outputs": [],
      "source": [
        "from sqlalchemy.orm import DeclarativeBase # Декларативный, базовый класс\n",
        "from sqlalchemy.orm import mapped_column\n",
        "from sqlalchemy.orm import Session # для создания записей в бд\n",
        "from sqlalchemy.orm import Mapped\n",
        "from sqlalchemy import ForeignKey, String\n",
        "from sqlalchemy.orm import relationship\n",
        "from sqlalchemy import create_engine, text, select\n",
        "from typing import List\n",
        "import sqlite3"
      ]
    },
    {
      "cell_type": "code",
      "source": [
        "# объявляем модели\n",
        "\n",
        "class Base(DeclarativeBase):\n",
        "  pass\n",
        "\n",
        "\n",
        "class User(Base):\n",
        "  __tablename__ = \"users\"\n",
        "\n",
        "  id: Mapped[int] = mapped_column(primary_key=True)\n",
        "  name: Mapped[str] = mapped_column(String(30))\n",
        "  username: Mapped[str | None]\n",
        "  addresses: Mapped[list['Address']] = relationship( # Если мы указали List, значит у одного адреса, может быть множество юзеров\n",
        "      back_populates = \"user\", # здесь связь 1 ко многим\n",
        "      cascade = \"all, delete-orphan\" # что делаем когда удаляем user'а (all - удаление всех записей)\n",
        "  )\n",
        "\n",
        "class Address(Base):\n",
        "  __tablename__ = \"addresses\"\n",
        "\n",
        "  id: Mapped[int] = mapped_column(primary_key=True)\n",
        "  email: Mapped[str]\n",
        "  user_id: Mapped[int] = mapped_column(ForeignKey(\"users.id\"))\n",
        "  user: Mapped[\"User\"] = relationship(back_populates=\"addresses\") # настройка связи 1 ко многим"
      ],
      "metadata": {
        "id": "8rlafBrTjmbz"
      },
      "execution_count": 3,
      "outputs": []
    },
    {
      "cell_type": "code",
      "source": [
        "# Создаем модели в базе данных\n",
        "engine = create_engine(\n",
        "    url=\"sqlite:///./db.sqlite3\"\n",
        ")\n",
        "Base.metadata.create_all(bind=engine)"
      ],
      "metadata": {
        "id": "nrwYYxYVnwoh"
      },
      "execution_count": 4,
      "outputs": []
    },
    {
      "cell_type": "code",
      "source": [
        "with Session(engine) as session:\n",
        "\n",
        "  user = User(\n",
        "      name=\"Bob Grow\",\n",
        "      username=\"Bom\",\n",
        "      addresses = [\n",
        "          Address(\n",
        "              email=\"bob@mail.ru\"\n",
        "          ),\n",
        "          Address(\n",
        "              email=\"bob_two@mail.ru\"\n",
        "          )\n",
        "      ]\n",
        "  )\n",
        "  session.add(user)\n",
        "  session.commit()"
      ],
      "metadata": {
        "id": "zelynrH2n2fq"
      },
      "execution_count": 5,
      "outputs": []
    },
    {
      "cell_type": "code",
      "source": [
        "stmp = select(User).where(User.name==\"Bob Grow\")\n",
        "user: User | None = session.scalar(stmp)\n",
        "user"
      ],
      "metadata": {
        "colab": {
          "base_uri": "https://localhost:8080/"
        },
        "id": "yz3sjq1MZXmy",
        "outputId": "1846b135-3527-4bc4-ce44-6f097d8c30f5"
      },
      "execution_count": 13,
      "outputs": [
        {
          "output_type": "execute_result",
          "data": {
            "text/plain": [
              "<__main__.User at 0x7895a6a17a30>"
            ]
          },
          "metadata": {},
          "execution_count": 13
        }
      ]
    }
  ]
}