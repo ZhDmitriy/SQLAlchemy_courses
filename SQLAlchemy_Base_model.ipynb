{
  "nbformat": 4,
  "nbformat_minor": 0,
  "metadata": {
    "colab": {
      "provenance": []
    },
    "kernelspec": {
      "name": "python3",
      "display_name": "Python 3"
    },
    "language_info": {
      "name": "python"
    }
  },
  "cells": [
    {
      "cell_type": "markdown",
      "source": [
        "# Many to many"
      ],
      "metadata": {
        "id": "G1HvBuZBxqtn"
      }
    },
    {
      "cell_type": "code",
      "source": [
        "from sqlalchemy.orm import DeclarativeBase # Декларативный, базовый класс\n",
        "from sqlalchemy.orm import mapped_column, declared_attr\n",
        "from sqlalchemy.orm import Session # для создания записей в бд\n",
        "from sqlalchemy.orm import Mapped\n",
        "from sqlalchemy import ForeignKey, String\n",
        "from sqlalchemy.orm import relationship\n",
        "from sqlalchemy import create_engine, text, select\n",
        "from typing import List\n",
        "import sqlite3\n",
        "from sqlalchemy import func\n",
        "from sqlalchemy import Column, Table\n",
        "from datetime import datetime"
      ],
      "metadata": {
        "id": "jUNHFolqyTt4"
      },
      "execution_count": null,
      "outputs": []
    },
    {
      "cell_type": "markdown",
      "source": [
        "Tutorial from SQLAlchemy"
      ],
      "metadata": {
        "id": "hUh5CAlmHgZz"
      }
    },
    {
      "cell_type": "code",
      "source": [
        "class Base(DeclarativeBase):\n",
        "  __abstract__ = True # модель не должна быть создана в базе данных\n",
        "\n",
        "  @declared_attr # задаем имя таблицы по умолчанию\n",
        "  def __tablename__(cls) -> str:\n",
        "    return f\"{cls.__name__.lower()}s\"\n",
        "\n",
        "  id: Mapped[int] = mapped_column(primary_key=True)\n",
        "\n",
        "\n",
        "class Order(Base):\n",
        "  __tablename__ = \"orders\"\n",
        "\n",
        "  promocode: Mapped[str | None]\n",
        "  created_at: Mapped[datetime] = mapped_column(\n",
        "      server_default=func.now(), # что будет на стороне сервера при создании это записи\n",
        "      default=datetime.utcnow # что будет по умолчанию\n",
        "    )\n",
        "  products: Mapped[list[\"Product\"]] = relationship(secondary=\"order_product_associstion\",\n",
        "                                                   back_populates=\"orders\") # ссылаемся на промежуточную таблицу\n",
        "\n",
        "\n",
        "order_product_associstion_table = Table(\n",
        "    \"order_product_associstion\",  # имя таблицы\n",
        "    Base.metadata, # мета-данные\n",
        "    # колонки в любом количестве (какая таблица, а какая справа - неважно)\n",
        "    # Здесь мы создаем колонки\n",
        "    Column(\"order_id\", ForeignKey(\"orders.id\"), primary_key=True), # primary_key - один товар в корзине может быть только один раз\n",
        "    Column(\"product_id\", ForeignKey(\"products.id\"), primary_key=True)\n",
        ")\n",
        "\n",
        "\n",
        "class Product(Base):\n",
        "  __tablename__ = \"products\"\n",
        "\n",
        "  name: Mapped[str]\n",
        "  description: Mapped[str]\n",
        "  price: Mapped[int]\n",
        "\n",
        "  orders: Mapped[list[\"Product\"]] = relationship(secondary=\"order_product_associstion\",\n",
        "                                                   back_populates=\"products\") # ссылаемся на промежуточную таблицу"
      ],
      "metadata": {
        "id": "_ygNRkKOyGmX"
      },
      "execution_count": null,
      "outputs": []
    }
  ]
}